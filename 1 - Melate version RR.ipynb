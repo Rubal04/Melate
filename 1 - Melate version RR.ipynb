{
 "cells": [
  {
   "cell_type": "code",
   "execution_count": 1,
   "id": "787f9a3e",
   "metadata": {},
   "outputs": [],
   "source": [
    "infile = \"/Users/Gullermo R/Claro drive/Datasets/Melate/Melate.csv\"\n",
    "outfile1 = \"/Users/Gullermo R/Claro drive/Datasets/Melate/MelateStat.csv\""
   ]
  },
  {
   "cell_type": "code",
   "execution_count": 2,
   "id": "7147930d",
   "metadata": {},
   "outputs": [],
   "source": [
    "import pandas as pd\n",
    "import numpy as np\n",
    "import os\n",
    "import matplotlib.pyplot as plt"
   ]
  },
  {
   "cell_type": "code",
   "execution_count": 3,
   "id": "b7d1b10a",
   "metadata": {},
   "outputs": [],
   "source": [
    "df = pd.read_csv(infile)"
   ]
  },
  {
   "cell_type": "code",
   "execution_count": 4,
   "id": "cb34cdbe",
   "metadata": {},
   "outputs": [
    {
     "data": {
      "text/plain": [
       "(3578, 11)"
      ]
     },
     "execution_count": 4,
     "metadata": {},
     "output_type": "execute_result"
    }
   ],
   "source": [
    "df.shape"
   ]
  },
  {
   "cell_type": "code",
   "execution_count": 5,
   "id": "252cbc77",
   "metadata": {},
   "outputs": [
    {
     "data": {
      "text/html": [
       "<div>\n",
       "<style scoped>\n",
       "    .dataframe tbody tr th:only-of-type {\n",
       "        vertical-align: middle;\n",
       "    }\n",
       "\n",
       "    .dataframe tbody tr th {\n",
       "        vertical-align: top;\n",
       "    }\n",
       "\n",
       "    .dataframe thead th {\n",
       "        text-align: right;\n",
       "    }\n",
       "</style>\n",
       "<table border=\"1\" class=\"dataframe\">\n",
       "  <thead>\n",
       "    <tr style=\"text-align: right;\">\n",
       "      <th></th>\n",
       "      <th>NPRODUCTO</th>\n",
       "      <th>CONCURSO</th>\n",
       "      <th>R1</th>\n",
       "      <th>R2</th>\n",
       "      <th>R3</th>\n",
       "      <th>R4</th>\n",
       "      <th>R5</th>\n",
       "      <th>R6</th>\n",
       "      <th>R7</th>\n",
       "      <th>BOLSA</th>\n",
       "      <th>FECHA</th>\n",
       "    </tr>\n",
       "  </thead>\n",
       "  <tbody>\n",
       "    <tr>\n",
       "      <th>0</th>\n",
       "      <td>40</td>\n",
       "      <td>3578</td>\n",
       "      <td>21</td>\n",
       "      <td>23</td>\n",
       "      <td>29</td>\n",
       "      <td>31</td>\n",
       "      <td>40</td>\n",
       "      <td>56</td>\n",
       "      <td>52</td>\n",
       "      <td>164800000</td>\n",
       "      <td>24/04/2022</td>\n",
       "    </tr>\n",
       "    <tr>\n",
       "      <th>1</th>\n",
       "      <td>40</td>\n",
       "      <td>3577</td>\n",
       "      <td>1</td>\n",
       "      <td>11</td>\n",
       "      <td>13</td>\n",
       "      <td>20</td>\n",
       "      <td>41</td>\n",
       "      <td>49</td>\n",
       "      <td>18</td>\n",
       "      <td>161000000</td>\n",
       "      <td>22/04/2022</td>\n",
       "    </tr>\n",
       "    <tr>\n",
       "      <th>2</th>\n",
       "      <td>40</td>\n",
       "      <td>3576</td>\n",
       "      <td>10</td>\n",
       "      <td>12</td>\n",
       "      <td>18</td>\n",
       "      <td>21</td>\n",
       "      <td>44</td>\n",
       "      <td>55</td>\n",
       "      <td>46</td>\n",
       "      <td>158000000</td>\n",
       "      <td>20/04/2022</td>\n",
       "    </tr>\n",
       "    <tr>\n",
       "      <th>3</th>\n",
       "      <td>40</td>\n",
       "      <td>3575</td>\n",
       "      <td>29</td>\n",
       "      <td>32</td>\n",
       "      <td>34</td>\n",
       "      <td>42</td>\n",
       "      <td>45</td>\n",
       "      <td>51</td>\n",
       "      <td>11</td>\n",
       "      <td>155900000</td>\n",
       "      <td>17/04/2022</td>\n",
       "    </tr>\n",
       "    <tr>\n",
       "      <th>4</th>\n",
       "      <td>40</td>\n",
       "      <td>3574</td>\n",
       "      <td>23</td>\n",
       "      <td>25</td>\n",
       "      <td>33</td>\n",
       "      <td>41</td>\n",
       "      <td>44</td>\n",
       "      <td>51</td>\n",
       "      <td>4</td>\n",
       "      <td>152600000</td>\n",
       "      <td>15/04/2022</td>\n",
       "    </tr>\n",
       "    <tr>\n",
       "      <th>5</th>\n",
       "      <td>40</td>\n",
       "      <td>3573</td>\n",
       "      <td>1</td>\n",
       "      <td>2</td>\n",
       "      <td>11</td>\n",
       "      <td>31</td>\n",
       "      <td>35</td>\n",
       "      <td>54</td>\n",
       "      <td>41</td>\n",
       "      <td>149200000</td>\n",
       "      <td>13/04/2022</td>\n",
       "    </tr>\n",
       "    <tr>\n",
       "      <th>6</th>\n",
       "      <td>40</td>\n",
       "      <td>3572</td>\n",
       "      <td>19</td>\n",
       "      <td>21</td>\n",
       "      <td>36</td>\n",
       "      <td>38</td>\n",
       "      <td>42</td>\n",
       "      <td>51</td>\n",
       "      <td>28</td>\n",
       "      <td>146800000</td>\n",
       "      <td>10/04/2022</td>\n",
       "    </tr>\n",
       "    <tr>\n",
       "      <th>7</th>\n",
       "      <td>40</td>\n",
       "      <td>3571</td>\n",
       "      <td>21</td>\n",
       "      <td>28</td>\n",
       "      <td>33</td>\n",
       "      <td>39</td>\n",
       "      <td>51</td>\n",
       "      <td>52</td>\n",
       "      <td>31</td>\n",
       "      <td>143300000</td>\n",
       "      <td>08/04/2022</td>\n",
       "    </tr>\n",
       "    <tr>\n",
       "      <th>8</th>\n",
       "      <td>40</td>\n",
       "      <td>3570</td>\n",
       "      <td>4</td>\n",
       "      <td>20</td>\n",
       "      <td>21</td>\n",
       "      <td>22</td>\n",
       "      <td>45</td>\n",
       "      <td>47</td>\n",
       "      <td>24</td>\n",
       "      <td>139700000</td>\n",
       "      <td>06/04/2022</td>\n",
       "    </tr>\n",
       "    <tr>\n",
       "      <th>9</th>\n",
       "      <td>40</td>\n",
       "      <td>3569</td>\n",
       "      <td>1</td>\n",
       "      <td>15</td>\n",
       "      <td>22</td>\n",
       "      <td>36</td>\n",
       "      <td>39</td>\n",
       "      <td>49</td>\n",
       "      <td>31</td>\n",
       "      <td>137300000</td>\n",
       "      <td>03/04/2022</td>\n",
       "    </tr>\n",
       "  </tbody>\n",
       "</table>\n",
       "</div>"
      ],
      "text/plain": [
       "   NPRODUCTO  CONCURSO  R1  R2  R3  R4  R5  R6  R7      BOLSA       FECHA\n",
       "0         40      3578  21  23  29  31  40  56  52  164800000  24/04/2022\n",
       "1         40      3577   1  11  13  20  41  49  18  161000000  22/04/2022\n",
       "2         40      3576  10  12  18  21  44  55  46  158000000  20/04/2022\n",
       "3         40      3575  29  32  34  42  45  51  11  155900000  17/04/2022\n",
       "4         40      3574  23  25  33  41  44  51   4  152600000  15/04/2022\n",
       "5         40      3573   1   2  11  31  35  54  41  149200000  13/04/2022\n",
       "6         40      3572  19  21  36  38  42  51  28  146800000  10/04/2022\n",
       "7         40      3571  21  28  33  39  51  52  31  143300000  08/04/2022\n",
       "8         40      3570   4  20  21  22  45  47  24  139700000  06/04/2022\n",
       "9         40      3569   1  15  22  36  39  49  31  137300000  03/04/2022"
      ]
     },
     "execution_count": 5,
     "metadata": {},
     "output_type": "execute_result"
    }
   ],
   "source": [
    "df.head(10)"
   ]
  },
  {
   "cell_type": "code",
   "execution_count": 6,
   "id": "34bcefcc",
   "metadata": {},
   "outputs": [
    {
     "data": {
      "text/plain": [
       "Index(['NPRODUCTO', 'CONCURSO', 'R1', 'R2', 'R3', 'R4', 'R5', 'R6', 'R7',\n",
       "       'BOLSA', 'FECHA'],\n",
       "      dtype='object')"
      ]
     },
     "execution_count": 6,
     "metadata": {},
     "output_type": "execute_result"
    }
   ],
   "source": [
    "df.columns"
   ]
  },
  {
   "cell_type": "code",
   "execution_count": 7,
   "id": "5f0bc440",
   "metadata": {},
   "outputs": [
    {
     "data": {
      "text/plain": [
       "array(['NPRODUCTO', 'CONCURSO', 'R1', 'R2', 'R3', 'R4', 'R5', 'R6', 'R7',\n",
       "       'BOLSA', 'FECHA'], dtype=object)"
      ]
     },
     "execution_count": 7,
     "metadata": {},
     "output_type": "execute_result"
    }
   ],
   "source": [
    "df.columns.values"
   ]
  },
  {
   "cell_type": "code",
   "execution_count": 9,
   "id": "15bb9fe3",
   "metadata": {},
   "outputs": [
    {
     "data": {
      "text/plain": [
       "NPRODUCTO     int64\n",
       "CONCURSO      int64\n",
       "R1            int64\n",
       "R2            int64\n",
       "R3            int64\n",
       "R4            int64\n",
       "R5            int64\n",
       "R6            int64\n",
       "R7            int64\n",
       "BOLSA         int64\n",
       "FECHA        object\n",
       "dtype: object"
      ]
     },
     "execution_count": 9,
     "metadata": {},
     "output_type": "execute_result"
    }
   ],
   "source": [
    "df.dtypes"
   ]
  },
  {
   "cell_type": "code",
   "execution_count": 10,
   "id": "63411500",
   "metadata": {},
   "outputs": [],
   "source": [
    "dfcolumns = pd.concat((df[\"R1\"],df[\"R2\"],df[\"R3\"],df[\"R4\"],df[\"R5\"],df[\"R6\"],df[\"R7\"]),axis=0)"
   ]
  },
  {
   "cell_type": "code",
   "execution_count": 13,
   "id": "714c8b06",
   "metadata": {},
   "outputs": [
    {
     "data": {
      "text/plain": [
       "dtype('int64')"
      ]
     },
     "execution_count": 13,
     "metadata": {},
     "output_type": "execute_result"
    }
   ],
   "source": [
    "dfcolumns.dtype"
   ]
  },
  {
   "cell_type": "code",
   "execution_count": 12,
   "id": "0afaeb68",
   "metadata": {},
   "outputs": [
    {
     "data": {
      "text/plain": [
       "(25046,)"
      ]
     },
     "execution_count": 12,
     "metadata": {},
     "output_type": "execute_result"
    }
   ],
   "source": [
    "dfcolumns.shape"
   ]
  },
  {
   "cell_type": "code",
   "execution_count": 23,
   "id": "bffe6538",
   "metadata": {},
   "outputs": [
    {
     "data": {
      "text/plain": [
       "Text(0.5, 1.0, 'Histograma del 1 al 56')"
      ]
     },
     "execution_count": 23,
     "metadata": {},
     "output_type": "execute_result"
    },
    {
     "data": {
      "image/png": "[encoded data removed]",
      "text/plain": [
       "<Figure size 432x288 with 1 Axes>"
      ]
     },
     "metadata": {
      "needs_background": "light"
     },
     "output_type": "display_data"
    }
   ],
   "source": [
    "plt.hist(dfcolumns[\"R1\"],bins=[1,2,3,4,5,6,7,8,9,10,11,12,13,14,15,16,17,18,19,20,21,22,23,24,25,26,27,28,29,30,31,32,33,34,35,36,37,38,39,40,41,42,43,44,49,50,51,52,53,54,55,56])\n",
    "plt.xlabel(\"numeros R1\")\n",
    "plt.ylabel(\"Frecuencia\")\n",
    "plt.title(\"Histograma del 1 al 56\")"
   ]
  },
  {
   "cell_type": "code",
   "execution_count": 24,
   "id": "f600f4fc",
   "metadata": {},
   "outputs": [
    {
     "data": {
      "text/plain": [
       "Text(0.5, 1.0, 'Histograma del 1 al 56')"
      ]
     },
     "execution_count": 24,
     "metadata": {},
     "output_type": "execute_result"
    },
    {
     "data": {
      "image/png": "[encoded data removed]",
      "text/plain": [
       "<Figure size 432x288 with 1 Axes>"
      ]
     },
     "metadata": {
      "needs_background": "light"
     },
     "output_type": "display_data"
    }
   ],
   "source": [
    "plt.hist(dfcolumns[\"R2\"],bins=[1,2,3,4,5,6,7,8,9,10,11,12,13,14,15,16,17,18,19,20,21,22,23,24,25,26,27,28,29,30,31,32,33,34,35,36,37,38,39,40,41,42,43,44,49,50,51,52,53,54,55,56])\n",
    "plt.xlabel(\"numeros R2\")\n",
    "plt.ylabel(\"Frecuencia\")\n",
    "plt.title(\"Histograma del 1 al 56\")"
   ]
  },
  {
   "cell_type": "code",
   "execution_count": 25,
   "id": "735d2adf",
   "metadata": {},
   "outputs": [
    {
     "data": {
      "text/plain": [
       "Text(0.5, 1.0, 'Histograma del 1 al 56')"
      ]
     },
     "execution_count": 25,
     "metadata": {},
     "output_type": "execute_result"
    },
    {
     "data": {
      "image/png": "[encoded data removed]",
      "text/plain": [
       "<Figure size 432x288 with 1 Axes>"
      ]
     },
     "metadata": {
      "needs_background": "light"
     },
     "output_type": "display_data"
    }
   ],
   "source": [
    "plt.hist(dfcolumns[\"R3\"],bins=[1,2,3,4,5,6,7,8,9,10,11,12,13,14,15,16,17,18,19,20,21,22,23,24,25,26,27,28,29,30,31,32,33,34,35,36,37,38,39,40,41,42,43,44,49,50,51,52,53,54,55,56])\n",
    "plt.xlabel(\"numeros R3\")\n",
    "plt.ylabel(\"Frecuencia\")\n",
    "plt.title(\"Histograma del 1 al 56\")"
   ]
  },
  {
   "cell_type": "code",
   "execution_count": 26,
   "id": "9b541b7c",
   "metadata": {},
   "outputs": [
    {
     "data": {
      "text/plain": [
       "Text(0.5, 1.0, 'Histograma del 1 al 56')"
      ]
     },
     "execution_count": 26,
     "metadata": {},
     "output_type": "execute_result"
    },
    {
     "data": {
      "image/png": "[encoded data removed]",
      "text/plain": [
       "<Figure size 432x288 with 1 Axes>"
      ]
     },
     "metadata": {
      "needs_background": "light"
     },
     "output_type": "display_data"
    }
   ],
   "source": [
    "plt.hist(dfcolumns[\"R4\"],bins=[1,2,3,4,5,6,7,8,9,10,11,12,13,14,15,16,17,18,19,20,21,22,23,24,25,26,27,28,29,30,31,32,33,34,35,36,37,38,39,40,41,42,43,44,49,50,51,52,53,54,55,56])\n",
    "plt.xlabel(\"numeros R4\")\n",
    "plt.ylabel(\"Frecuencia\")\n",
    "plt.title(\"Histograma del 1 al 56\")"
   ]
  },
  {
   "cell_type": "code",
   "execution_count": 27,
   "id": "c2e734a4",
   "metadata": {},
   "outputs": [
    {
     "data": {
      "text/plain": [
       "Text(0.5, 1.0, 'Histograma del 1 al 56')"
      ]
     },
     "execution_count": 27,
     "metadata": {},
     "output_type": "execute_result"
    },
    {
     "data": {
      "image/png": "[encoded data removed]",
      "text/plain": [
       "<Figure size 432x288 with 1 Axes>"
      ]
     },
     "metadata": {
      "needs_background": "light"
     },
     "output_type": "display_data"
    }
   ],
   "source": [
    "plt.hist(dfcolumns[\"R5\"],bins=[1,2,3,4,5,6,7,8,9,10,11,12,13,14,15,16,17,18,19,20,21,22,23,24,25,26,27,28,29,30,31,32,33,34,35,36,37,38,39,40,41,42,43,44,49,50,51,52,53,54,55,56])\n",
    "plt.xlabel(\"numeros R5\")\n",
    "plt.ylabel(\"Frecuencia\")\n",
    "plt.title(\"Histograma del 1 al 56\")"
   ]
  },
  {
   "cell_type": "code",
   "execution_count": 28,
   "id": "e23b468b",
   "metadata": {},
   "outputs": [
    {
     "data": {
      "text/plain": [
       "Text(0.5, 1.0, 'Histograma del 1 al 56')"
      ]
     },
     "execution_count": 28,
     "metadata": {},
     "output_type": "execute_result"
    },
    {
     "data": {
      "image/png": "[encoded data removed]",
      "text/plain": [
       "<Figure size 432x288 with 1 Axes>"
      ]
     },
     "metadata": {
      "needs_background": "light"
     },
     "output_type": "display_data"
    }
   ],
   "source": [
    "plt.hist(dfcolumns[\"R6\"],bins=[1,2,3,4,5,6,7,8,9,10,11,12,13,14,15,16,17,18,19,20,21,22,23,24,25,26,27,28,29,30,31,32,33,34,35,36,37,38,39,40,41,42,43,44,49,50,51,52,53,54,55,56])\n",
    "plt.xlabel(\"numeros R6\")\n",
    "plt.ylabel(\"Frecuencia\")\n",
    "plt.title(\"Histograma del 1 al 56\")"
   ]
  },
  {
   "cell_type": "code",
   "execution_count": 29,
   "id": "3fbe97fb",
   "metadata": {},
   "outputs": [
    {
     "data": {
      "text/plain": [
       "Text(0.5, 1.0, 'Histograma del 1 al 56')"
      ]
     },
     "execution_count": 29,
     "metadata": {},
     "output_type": "execute_result"
    },
    {
     "data": {
      "image/png": "[encoded data removed]",
      "text/plain": [
       "<Figure size 432x288 with 1 Axes>"
      ]
     },
     "metadata": {
      "needs_background": "light"
     },
     "output_type": "display_data"
    }
   ],
   "source": [
    "plt.hist(dfcolumns[\"R7\"],bins=[1,2,3,4,5,6,7,8,9,10,11,12,13,14,15,16,17,18,19,20,21,22,23,24,25,26,27,28,29,30,31,32,33,34,35,36,37,38,39,40,41,42,43,44,49,50,51,52,53,54,55,56])\n",
    "plt.xlabel(\"numeros R7\")\n",
    "plt.ylabel(\"Frecuencia\")\n",
    "plt.title(\"Histograma del 1 al 56\")"
   ]
  },
  {
   "cell_type": "code",
   "execution_count": 31,
   "id": "24bd09e3",
   "metadata": {},
   "outputs": [
    {
     "data": {
      "text/plain": [
       "Text(0.5, 1.0, 'Histograma de numeros melate R1')"
      ]
     },
     "execution_count": 31,
     "metadata": {},
     "output_type": "execute_result"
    },
    {
     "data": {
      "image/png": "[encoded data removed]",
      "text/plain": [
       "<Figure size 432x288 with 1 Axes>"
      ]
     },
     "metadata": {
      "needs_background": "light"
     },
     "output_type": "display_data"
    }
   ],
   "source": [
    "S=int(np.ceil(1+np.log2(3579)))\n",
    "plt.hist(dfcolumns[\"R1\"],bins=S)\n",
    "plt.xlabel(\"Numeros R1\")\n",
    "plt.ylabel(\"Frecuencia\")\n",
    "plt.title(\"Histograma de numeros melate R1\")"
   ]
  },
  {
   "cell_type": "code",
   "execution_count": 39,
   "id": "5aca0808",
   "metadata": {},
   "outputs": [
    {
     "data": {
      "text/plain": [
       "Text(0.5, 1.0, 'Histograma de numeros melate R2')"
      ]
     },
     "execution_count": 39,
     "metadata": {},
     "output_type": "execute_result"
    },
    {
     "data": {
      "image/png": "[encoded data removed]",
      "text/plain": [
       "<Figure size 432x288 with 1 Axes>"
      ]
     },
     "metadata": {
      "needs_background": "light"
     },
     "output_type": "display_data"
    }
   ],
   "source": [
    "#Regla de sturgues 1 + log2(muestra)\n",
    "S=int(np.ceil(1+np.log2(3579)))\n",
    "plt.hist(dfcolumns[\"R2\"],bins=S)\n",
    "plt.xlabel(\"Numeros R2\")\n",
    "plt.ylabel(\"Frecuencia\")\n",
    "plt.title(\"Histograma de numeros melate R2\")"
   ]
  },
  {
   "cell_type": "code",
   "execution_count": 33,
   "id": "55fc21cc",
   "metadata": {},
   "outputs": [
    {
     "data": {
      "text/plain": [
       "Text(0.5, 1.0, 'Histograma de numeros melate R3')"
      ]
     },
     "execution_count": 33,
     "metadata": {},
     "output_type": "execute_result"
    },
    {
     "data": {
      "image/png": "[encoded data removed]",
      "text/plain": [
       "<Figure size 432x288 with 1 Axes>"
      ]
     },
     "metadata": {
      "needs_background": "light"
     },
     "output_type": "display_data"
    }
   ],
   "source": [
    "S=int(np.ceil(1+np.log2(3579)))\n",
    "plt.hist(dfcolumns[\"R3\"],bins=S)\n",
    "plt.xlabel(\"Numeros R3\")\n",
    "plt.ylabel(\"Frecuencia\")\n",
    "plt.title(\"Histograma de numeros melate R3\")"
   ]
  },
  {
   "cell_type": "code",
   "execution_count": 34,
   "id": "0fa015ef",
   "metadata": {},
   "outputs": [
    {
     "data": {
      "text/plain": [
       "Text(0.5, 1.0, 'Histograma de numeros melate R4')"
      ]
     },
     "execution_count": 34,
     "metadata": {},
     "output_type": "execute_result"
    },
    {
     "data": {
      "image/png": "[encoded data removed]",
      "text/plain": [
       "<Figure size 432x288 with 1 Axes>"
      ]
     },
     "metadata": {
      "needs_background": "light"
     },
     "output_type": "display_data"
    }
   ],
   "source": [
    "S=int(np.ceil(1+np.log2(3579)))\n",
    "plt.hist(dfcolumns[\"R4\"],bins=S)\n",
    "plt.xlabel(\"Numeros R4\")\n",
    "plt.ylabel(\"Frecuencia\")\n",
    "plt.title(\"Histograma de numeros melate R4\")"
   ]
  },
  {
   "cell_type": "code",
   "execution_count": 35,
   "id": "2a250b42",
   "metadata": {},
   "outputs": [
    {
     "data": {
      "text/plain": [
       "Text(0.5, 1.0, 'Histograma de numeros melate R5')"
      ]
     },
     "execution_count": 35,
     "metadata": {},
     "output_type": "execute_result"
    },
    {
     "data": {
      "image/png": "[encoded data removed]",
      "text/plain": [
       "<Figure size 432x288 with 1 Axes>"
      ]
     },
     "metadata": {
      "needs_background": "light"
     },
     "output_type": "display_data"
    }
   ],
   "source": [
    "S=int(np.ceil(1+np.log2(3579)))\n",
    "plt.hist(dfcolumns[\"R5\"],bins=S)\n",
    "plt.xlabel(\"Numeros R5\")\n",
    "plt.ylabel(\"Frecuencia\")\n",
    "plt.title(\"Histograma de numeros melate R5\")"
   ]
  },
  {
   "cell_type": "code",
   "execution_count": 36,
   "id": "fdea68f8",
   "metadata": {},
   "outputs": [
    {
     "data": {
      "text/plain": [
       "Text(0.5, 1.0, 'Histograma de numeros melate R6')"
      ]
     },
     "execution_count": 36,
     "metadata": {},
     "output_type": "execute_result"
    },
    {
     "data": {
      "image/png": "[encoded data removed]",
      "text/plain": [
       "<Figure size 432x288 with 1 Axes>"
      ]
     },
     "metadata": {
      "needs_background": "light"
     },
     "output_type": "display_data"
    }
   ],
   "source": [
    "S=int(np.ceil(1+np.log2(3579)))\n",
    "plt.hist(dfcolumns[\"R6\"],bins=S)\n",
    "plt.xlabel(\"Numeros R6\")\n",
    "plt.ylabel(\"Frecuencia\")\n",
    "plt.title(\"Histograma de numeros melate R6\")"
   ]
  },
  {
   "cell_type": "code",
   "execution_count": 37,
   "id": "94af704d",
   "metadata": {},
   "outputs": [
    {
     "data": {
      "text/plain": [
       "Text(0.5, 1.0, 'Histograma de numeros melate R7')"
      ]
     },
     "execution_count": 37,
     "metadata": {},
     "output_type": "execute_result"
    },
    {
     "data": {
      "image/png": "[encoded data removed]",
      "text/plain": [
       "<Figure size 432x288 with 1 Axes>"
      ]
     },
     "metadata": {
      "needs_background": "light"
     },
     "output_type": "display_data"
    }
   ],
   "source": [
    "S=int(np.ceil(1+np.log2(3579)))\n",
    "plt.hist(dfcolumns[\"R7\"],bins=S)\n",
    "plt.xlabel(\"Numeros R7\")\n",
    "plt.ylabel(\"Frecuencia\")\n",
    "plt.title(\"Histograma de numeros melate R7\")"
   ]
  },
  {
   "cell_type": "code",
   "execution_count": 47,
   "id": "79732418",
   "metadata": {},
   "outputs": [],
   "source": [
    "dfR1=(dfcolumns.groupby(\"R1\")).agg(frecuencia=(\"R1\",\"count\"))"
   ]
  },
  {
   "cell_type": "code",
   "execution_count": 48,
   "id": "02ee7d57",
   "metadata": {},
   "outputs": [
    {
     "data": {
      "text/html": [
       "<div>\n",
       "<style scoped>\n",
       "    .dataframe tbody tr th:only-of-type {\n",
       "        vertical-align: middle;\n",
       "    }\n",
       "\n",
       "    .dataframe tbody tr th {\n",
       "        vertical-align: top;\n",
       "    }\n",
       "\n",
       "    .dataframe thead th {\n",
       "        text-align: right;\n",
       "    }\n",
       "</style>\n",
       "<table border=\"1\" class=\"dataframe\">\n",
       "  <thead>\n",
       "    <tr style=\"text-align: right;\">\n",
       "      <th></th>\n",
       "      <th>frecuencia</th>\n",
       "    </tr>\n",
       "    <tr>\n",
       "      <th>R1</th>\n",
       "      <th></th>\n",
       "    </tr>\n",
       "  </thead>\n",
       "  <tbody>\n",
       "    <tr>\n",
       "      <th>1</th>\n",
       "      <td>458</td>\n",
       "    </tr>\n",
       "    <tr>\n",
       "      <th>2</th>\n",
       "      <td>405</td>\n",
       "    </tr>\n",
       "    <tr>\n",
       "      <th>3</th>\n",
       "      <td>344</td>\n",
       "    </tr>\n",
       "    <tr>\n",
       "      <th>4</th>\n",
       "      <td>302</td>\n",
       "    </tr>\n",
       "    <tr>\n",
       "      <th>5</th>\n",
       "      <td>289</td>\n",
       "    </tr>\n",
       "    <tr>\n",
       "      <th>6</th>\n",
       "      <td>237</td>\n",
       "    </tr>\n",
       "    <tr>\n",
       "      <th>7</th>\n",
       "      <td>235</td>\n",
       "    </tr>\n",
       "    <tr>\n",
       "      <th>8</th>\n",
       "      <td>174</td>\n",
       "    </tr>\n",
       "    <tr>\n",
       "      <th>9</th>\n",
       "      <td>172</td>\n",
       "    </tr>\n",
       "    <tr>\n",
       "      <th>10</th>\n",
       "      <td>143</td>\n",
       "    </tr>\n",
       "    <tr>\n",
       "      <th>11</th>\n",
       "      <td>120</td>\n",
       "    </tr>\n",
       "    <tr>\n",
       "      <th>12</th>\n",
       "      <td>108</td>\n",
       "    </tr>\n",
       "    <tr>\n",
       "      <th>13</th>\n",
       "      <td>107</td>\n",
       "    </tr>\n",
       "    <tr>\n",
       "      <th>14</th>\n",
       "      <td>69</td>\n",
       "    </tr>\n",
       "    <tr>\n",
       "      <th>15</th>\n",
       "      <td>70</td>\n",
       "    </tr>\n",
       "    <tr>\n",
       "      <th>16</th>\n",
       "      <td>68</td>\n",
       "    </tr>\n",
       "    <tr>\n",
       "      <th>17</th>\n",
       "      <td>42</td>\n",
       "    </tr>\n",
       "    <tr>\n",
       "      <th>18</th>\n",
       "      <td>41</td>\n",
       "    </tr>\n",
       "    <tr>\n",
       "      <th>19</th>\n",
       "      <td>27</td>\n",
       "    </tr>\n",
       "    <tr>\n",
       "      <th>20</th>\n",
       "      <td>26</td>\n",
       "    </tr>\n",
       "    <tr>\n",
       "      <th>21</th>\n",
       "      <td>24</td>\n",
       "    </tr>\n",
       "    <tr>\n",
       "      <th>22</th>\n",
       "      <td>21</td>\n",
       "    </tr>\n",
       "    <tr>\n",
       "      <th>23</th>\n",
       "      <td>18</td>\n",
       "    </tr>\n",
       "    <tr>\n",
       "      <th>24</th>\n",
       "      <td>24</td>\n",
       "    </tr>\n",
       "    <tr>\n",
       "      <th>25</th>\n",
       "      <td>10</td>\n",
       "    </tr>\n",
       "    <tr>\n",
       "      <th>26</th>\n",
       "      <td>9</td>\n",
       "    </tr>\n",
       "    <tr>\n",
       "      <th>27</th>\n",
       "      <td>5</td>\n",
       "    </tr>\n",
       "    <tr>\n",
       "      <th>28</th>\n",
       "      <td>7</td>\n",
       "    </tr>\n",
       "    <tr>\n",
       "      <th>29</th>\n",
       "      <td>7</td>\n",
       "    </tr>\n",
       "    <tr>\n",
       "      <th>30</th>\n",
       "      <td>2</td>\n",
       "    </tr>\n",
       "    <tr>\n",
       "      <th>31</th>\n",
       "      <td>5</td>\n",
       "    </tr>\n",
       "    <tr>\n",
       "      <th>33</th>\n",
       "      <td>1</td>\n",
       "    </tr>\n",
       "    <tr>\n",
       "      <th>34</th>\n",
       "      <td>1</td>\n",
       "    </tr>\n",
       "    <tr>\n",
       "      <th>35</th>\n",
       "      <td>4</td>\n",
       "    </tr>\n",
       "    <tr>\n",
       "      <th>37</th>\n",
       "      <td>3</td>\n",
       "    </tr>\n",
       "    <tr>\n",
       "      <th>42</th>\n",
       "      <td>1</td>\n",
       "    </tr>\n",
       "  </tbody>\n",
       "</table>\n",
       "</div>"
      ],
      "text/plain": [
       "    frecuencia\n",
       "R1            \n",
       "1          458\n",
       "2          405\n",
       "3          344\n",
       "4          302\n",
       "5          289\n",
       "6          237\n",
       "7          235\n",
       "8          174\n",
       "9          172\n",
       "10         143\n",
       "11         120\n",
       "12         108\n",
       "13         107\n",
       "14          69\n",
       "15          70\n",
       "16          68\n",
       "17          42\n",
       "18          41\n",
       "19          27\n",
       "20          26\n",
       "21          24\n",
       "22          21\n",
       "23          18\n",
       "24          24\n",
       "25          10\n",
       "26           9\n",
       "27           5\n",
       "28           7\n",
       "29           7\n",
       "30           2\n",
       "31           5\n",
       "33           1\n",
       "34           1\n",
       "35           4\n",
       "37           3\n",
       "42           1"
      ]
     },
     "execution_count": 48,
     "metadata": {},
     "output_type": "execute_result"
    }
   ],
   "source": [
    "dfR1.head(56)"
   ]
  },
  {
   "cell_type": "code",
   "execution_count": 52,
   "id": "8e3654f0",
   "metadata": {},
   "outputs": [],
   "source": [
    "dfexr1=dfR1.to_excel(outfile1)"
   ]
  },
  {
   "cell_type": "code",
   "execution_count": 55,
   "id": "fc6753e2",
   "metadata": {},
   "outputs": [],
   "source": []
  },
  {
   "cell_type": "code",
   "execution_count": null,
   "id": "28d0d913",
   "metadata": {},
   "outputs": [],
   "source": []
  }
 ],
 "metadata": {
  "kernelspec": {
   "display_name": "Python 3 (ipykernel)",
   "language": "python",
   "name": "python3"
  },
  "language_info": {
   "codemirror_mode": {
    "name": "ipython",
    "version": 3
   },
   "file_extension": ".py",
   "mimetype": "text/x-python",
   "name": "python",
   "nbconvert_exporter": "python",
   "pygments_lexer": "ipython3",
   "version": "3.9.7"
  }
 },
 "nbformat": 4,
 "nbformat_minor": 5
}
