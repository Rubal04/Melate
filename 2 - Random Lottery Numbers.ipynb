{
 "cells": [
  {
   "cell_type": "markdown",
   "id": "f9ec574a",
   "metadata": {},
   "source": [
    "# Random Lottery Numbers"
   ]
  },
  {
   "cell_type": "code",
   "execution_count": 16,
   "id": "72ef0403",
   "metadata": {},
   "outputs": [],
   "source": [
    "import numpy as np\n",
    "import random"
   ]
  },
  {
   "cell_type": "code",
   "execution_count": 17,
   "id": "1a0b2966",
   "metadata": {},
   "outputs": [],
   "source": [
    "#Initialise an empty list that will be used to store the 6 lucky numbers!"
   ]
  },
  {
   "cell_type": "code",
   "execution_count": 18,
   "id": "ebb6e8b0",
   "metadata": {},
   "outputs": [],
   "source": [
    "lotteryNumbers = []"
   ]
  },
  {
   "cell_type": "code",
   "execution_count": 19,
   "id": "0ca8dd15",
   "metadata": {},
   "outputs": [
    {
     "name": "stdout",
     "output_type": "stream",
     "text": [
      ">>> today´s lottery numbers are: \n",
      "[27, 33, 38, 42, 45, 51]\n"
     ]
    }
   ],
   "source": [
    "for i in range (0,6):\n",
    "    number = random.randint(1,56)\n",
    "    #check if this number has already been picked and...\n",
    "    while number in lotteryNumbers:\n",
    "        #...if it has, pick a new number instead\n",
    "        number = random.randint(1,56)\n",
    "    #Now that we have a unique number, let´s append it to our list.\n",
    "    lotteryNumbers.append(number)\n",
    "    \n",
    "#Sort the list in ascending order\n",
    "lotteryNumbers.sort()\n",
    "#Display the list on screen\n",
    "print(\">>> today´s lottery numbers are: \")\n",
    "print(lotteryNumbers)"
   ]
  },
  {
   "cell_type": "code",
   "execution_count": null,
   "id": "a4f765a6",
   "metadata": {},
   "outputs": [],
   "source": []
  }
 ],
 "metadata": {
  "kernelspec": {
   "display_name": "Python 3 (ipykernel)",
   "language": "python",
   "name": "python3"
  },
  "language_info": {
   "codemirror_mode": {
    "name": "ipython",
    "version": 3
   },
   "file_extension": ".py",
   "mimetype": "text/x-python",
   "name": "python",
   "nbconvert_exporter": "python",
   "pygments_lexer": "ipython3",
   "version": "3.9.7"
  }
 },
 "nbformat": 4,
 "nbformat_minor": 5
}
