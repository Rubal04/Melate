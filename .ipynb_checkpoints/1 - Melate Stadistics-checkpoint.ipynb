{
 "cells": [
  {
   "cell_type": "markdown",
   "id": "b338f084",
   "metadata": {},
   "source": [
    "# Melate Info"
   ]
  },
  {
   "cell_type": "code",
   "execution_count": 1,
   "id": "f4a88e82",
   "metadata": {},
   "outputs": [],
   "source": [
    "import pandas as pd\n",
    "import numpy as np\n",
    "import matplotlib.pyplot as plt"
   ]
  },
  {
   "cell_type": "code",
   "execution_count": 2,
   "id": "91b1dfab",
   "metadata": {},
   "outputs": [],
   "source": [
    "#Read the file downloaded from the website: https://www.pronosticos.gob.mx/DatosAbiertos/NumerosGanadores\n",
    "data = pd.read_csv(\"/Users/Gullermo R/Claro drive/Datasets/Melate/Melate.csv\")"
   ]
  },
  {
   "cell_type": "code",
   "execution_count": 3,
   "id": "2520e6c8",
   "metadata": {},
   "outputs": [
    {
     "data": {
      "text/html": [
       "<div>\n",
       "<style scoped>\n",
       "    .dataframe tbody tr th:only-of-type {\n",
       "        vertical-align: middle;\n",
       "    }\n",
       "\n",
       "    .dataframe tbody tr th {\n",
       "        vertical-align: top;\n",
       "    }\n",
       "\n",
       "    .dataframe thead th {\n",
       "        text-align: right;\n",
       "    }\n",
       "</style>\n",
       "<table border=\"1\" class=\"dataframe\">\n",
       "  <thead>\n",
       "    <tr style=\"text-align: right;\">\n",
       "      <th></th>\n",
       "      <th>NPRODUCTO</th>\n",
       "      <th>CONCURSO</th>\n",
       "      <th>R1</th>\n",
       "      <th>R2</th>\n",
       "      <th>R3</th>\n",
       "      <th>R4</th>\n",
       "      <th>R5</th>\n",
       "      <th>R6</th>\n",
       "      <th>R7</th>\n",
       "      <th>BOLSA</th>\n",
       "      <th>FECHA</th>\n",
       "    </tr>\n",
       "  </thead>\n",
       "  <tbody>\n",
       "    <tr>\n",
       "      <th>0</th>\n",
       "      <td>40</td>\n",
       "      <td>3581</td>\n",
       "      <td>1</td>\n",
       "      <td>6</td>\n",
       "      <td>18</td>\n",
       "      <td>29</td>\n",
       "      <td>31</td>\n",
       "      <td>47</td>\n",
       "      <td>42</td>\n",
       "      <td>173200000</td>\n",
       "      <td>01/05/2022</td>\n",
       "    </tr>\n",
       "    <tr>\n",
       "      <th>1</th>\n",
       "      <td>40</td>\n",
       "      <td>3580</td>\n",
       "      <td>6</td>\n",
       "      <td>7</td>\n",
       "      <td>9</td>\n",
       "      <td>21</td>\n",
       "      <td>33</td>\n",
       "      <td>37</td>\n",
       "      <td>1</td>\n",
       "      <td>170500000</td>\n",
       "      <td>29/04/2022</td>\n",
       "    </tr>\n",
       "    <tr>\n",
       "      <th>2</th>\n",
       "      <td>40</td>\n",
       "      <td>3579</td>\n",
       "      <td>13</td>\n",
       "      <td>27</td>\n",
       "      <td>29</td>\n",
       "      <td>33</td>\n",
       "      <td>41</td>\n",
       "      <td>45</td>\n",
       "      <td>49</td>\n",
       "      <td>167400000</td>\n",
       "      <td>27/04/2022</td>\n",
       "    </tr>\n",
       "    <tr>\n",
       "      <th>3</th>\n",
       "      <td>40</td>\n",
       "      <td>3578</td>\n",
       "      <td>21</td>\n",
       "      <td>23</td>\n",
       "      <td>29</td>\n",
       "      <td>31</td>\n",
       "      <td>40</td>\n",
       "      <td>56</td>\n",
       "      <td>52</td>\n",
       "      <td>164800000</td>\n",
       "      <td>24/04/2022</td>\n",
       "    </tr>\n",
       "    <tr>\n",
       "      <th>4</th>\n",
       "      <td>40</td>\n",
       "      <td>3577</td>\n",
       "      <td>1</td>\n",
       "      <td>11</td>\n",
       "      <td>13</td>\n",
       "      <td>20</td>\n",
       "      <td>41</td>\n",
       "      <td>49</td>\n",
       "      <td>18</td>\n",
       "      <td>161000000</td>\n",
       "      <td>22/04/2022</td>\n",
       "    </tr>\n",
       "  </tbody>\n",
       "</table>\n",
       "</div>"
      ],
      "text/plain": [
       "   NPRODUCTO  CONCURSO  R1  R2  R3  R4  R5  R6  R7      BOLSA       FECHA\n",
       "0         40      3581   1   6  18  29  31  47  42  173200000  01/05/2022\n",
       "1         40      3580   6   7   9  21  33  37   1  170500000  29/04/2022\n",
       "2         40      3579  13  27  29  33  41  45  49  167400000  27/04/2022\n",
       "3         40      3578  21  23  29  31  40  56  52  164800000  24/04/2022\n",
       "4         40      3577   1  11  13  20  41  49  18  161000000  22/04/2022"
      ]
     },
     "execution_count": 3,
     "metadata": {},
     "output_type": "execute_result"
    }
   ],
   "source": [
    "data.head()"
   ]
  },
  {
   "cell_type": "code",
   "execution_count": 4,
   "id": "1639e7c1",
   "metadata": {},
   "outputs": [
    {
     "data": {
      "text/plain": [
       "(3581, 11)"
      ]
     },
     "execution_count": 4,
     "metadata": {},
     "output_type": "execute_result"
    }
   ],
   "source": [
    "data.shape"
   ]
  },
  {
   "cell_type": "code",
   "execution_count": 5,
   "id": "e9a696cf",
   "metadata": {},
   "outputs": [],
   "source": [
    "dataR = data[[\"R1\"]]"
   ]
  },
  {
   "cell_type": "code",
   "execution_count": 6,
   "id": "b8ee9e93",
   "metadata": {},
   "outputs": [
    {
     "data": {
      "text/html": [
       "<div>\n",
       "<style scoped>\n",
       "    .dataframe tbody tr th:only-of-type {\n",
       "        vertical-align: middle;\n",
       "    }\n",
       "\n",
       "    .dataframe tbody tr th {\n",
       "        vertical-align: top;\n",
       "    }\n",
       "\n",
       "    .dataframe thead th {\n",
       "        text-align: right;\n",
       "    }\n",
       "</style>\n",
       "<table border=\"1\" class=\"dataframe\">\n",
       "  <thead>\n",
       "    <tr style=\"text-align: right;\">\n",
       "      <th></th>\n",
       "      <th>R1</th>\n",
       "    </tr>\n",
       "  </thead>\n",
       "  <tbody>\n",
       "    <tr>\n",
       "      <th>0</th>\n",
       "      <td>1</td>\n",
       "    </tr>\n",
       "    <tr>\n",
       "      <th>1</th>\n",
       "      <td>6</td>\n",
       "    </tr>\n",
       "    <tr>\n",
       "      <th>2</th>\n",
       "      <td>13</td>\n",
       "    </tr>\n",
       "    <tr>\n",
       "      <th>3</th>\n",
       "      <td>21</td>\n",
       "    </tr>\n",
       "    <tr>\n",
       "      <th>4</th>\n",
       "      <td>1</td>\n",
       "    </tr>\n",
       "  </tbody>\n",
       "</table>\n",
       "</div>"
      ],
      "text/plain": [
       "   R1\n",
       "0   1\n",
       "1   6\n",
       "2  13\n",
       "3  21\n",
       "4   1"
      ]
     },
     "execution_count": 6,
     "metadata": {},
     "output_type": "execute_result"
    }
   ],
   "source": [
    "dataR.head()"
   ]
  },
  {
   "cell_type": "code",
   "execution_count": 7,
   "id": "03ee261e",
   "metadata": {},
   "outputs": [
    {
     "name": "stdout",
     "output_type": "stream",
     "text": [
      "R2\n",
      "R3\n",
      "R4\n",
      "R5\n",
      "R6\n"
     ]
    },
    {
     "data": {
      "text/plain": [
       "(21486, 1)"
      ]
     },
     "execution_count": 7,
     "metadata": {},
     "output_type": "execute_result"
    }
   ],
   "source": [
    "for i in range(2,7):    \n",
    "    column_name = \"R\" + str(i)\n",
    "    print(column_name)\n",
    "    dataTemp = data[[column_name]]\n",
    "    dataTemp1 = dataTemp.rename(columns={column_name:\"R1\"})\n",
    "    dataR = pd.concat([dataR,dataTemp1], axis = 0)\n",
    "\n",
    "dataR.shape"
   ]
  },
  {
   "cell_type": "code",
   "execution_count": 8,
   "id": "63d4e30d",
   "metadata": {},
   "outputs": [
    {
     "data": {
      "text/html": [
       "<div>\n",
       "<style scoped>\n",
       "    .dataframe tbody tr th:only-of-type {\n",
       "        vertical-align: middle;\n",
       "    }\n",
       "\n",
       "    .dataframe tbody tr th {\n",
       "        vertical-align: top;\n",
       "    }\n",
       "\n",
       "    .dataframe thead th {\n",
       "        text-align: right;\n",
       "    }\n",
       "</style>\n",
       "<table border=\"1\" class=\"dataframe\">\n",
       "  <thead>\n",
       "    <tr style=\"text-align: right;\">\n",
       "      <th></th>\n",
       "      <th>R1</th>\n",
       "    </tr>\n",
       "  </thead>\n",
       "  <tbody>\n",
       "    <tr>\n",
       "      <th>0</th>\n",
       "      <td>1</td>\n",
       "    </tr>\n",
       "    <tr>\n",
       "      <th>1</th>\n",
       "      <td>6</td>\n",
       "    </tr>\n",
       "    <tr>\n",
       "      <th>2</th>\n",
       "      <td>13</td>\n",
       "    </tr>\n",
       "    <tr>\n",
       "      <th>3</th>\n",
       "      <td>21</td>\n",
       "    </tr>\n",
       "    <tr>\n",
       "      <th>4</th>\n",
       "      <td>1</td>\n",
       "    </tr>\n",
       "  </tbody>\n",
       "</table>\n",
       "</div>"
      ],
      "text/plain": [
       "   R1\n",
       "0   1\n",
       "1   6\n",
       "2  13\n",
       "3  21\n",
       "4   1"
      ]
     },
     "execution_count": 8,
     "metadata": {},
     "output_type": "execute_result"
    }
   ],
   "source": [
    "dataR.head()"
   ]
  },
  {
   "cell_type": "code",
   "execution_count": 9,
   "id": "ccfee244",
   "metadata": {},
   "outputs": [
    {
     "data": {
      "text/plain": [
       "(21486, 1)"
      ]
     },
     "execution_count": 9,
     "metadata": {},
     "output_type": "execute_result"
    }
   ],
   "source": [
    "dataR.shape"
   ]
  },
  {
   "cell_type": "code",
   "execution_count": 36,
   "id": "7bd6e7cb",
   "metadata": {},
   "outputs": [
    {
     "data": {
      "text/plain": [
       "Text(0.5, 1.0, 'Histograma del 1 al 56')"
      ]
     },
     "execution_count": 36,
     "metadata": {},
     "output_type": "execute_result"
    },
    {
     "data": {
      "image/png": "[encoded data removed]",
      "text/plain": [
       "<Figure size 432x288 with 1 Axes>"
      ]
     },
     "metadata": {
      "needs_background": "light"
     },
     "output_type": "display_data"
    }
   ],
   "source": [
    "# Raffles histogram\n",
    "plt.hist(dataR[\"R1\"],bins=56,edgecolor=\"w\", color=\"c\")\n",
    "plt.xlabel(\"Numeros\")\n",
    "plt.ylabel(\"Frecuencia\")\n",
    "plt.title(\"Histograma del 1 al 56\")"
   ]
  },
  {
   "cell_type": "code",
   "execution_count": null,
   "id": "0c097644",
   "metadata": {},
   "outputs": [],
   "source": [
    "grouped_numbers = dataR.groupby(\"R1\")\n",
    "grouped_numbers.size()"
   ]
  },
  {
   "cell_type": "code",
   "execution_count": null,
   "id": "bd6bc45c",
   "metadata": {},
   "outputs": [],
   "source": [
    "dataR['Freq'] = dataR.groupby('R1')[\"R1\"].transform('count')"
   ]
  },
  {
   "cell_type": "code",
   "execution_count": null,
   "id": "c5a2ec50",
   "metadata": {},
   "outputs": [],
   "source": [
    "dataR.head()"
   ]
  },
  {
   "cell_type": "code",
   "execution_count": null,
   "id": "08914fb7",
   "metadata": {},
   "outputs": [],
   "source": [
    "dataR.shape"
   ]
  },
  {
   "cell_type": "code",
   "execution_count": null,
   "id": "78db3b9b",
   "metadata": {},
   "outputs": [],
   "source": [
    "# sorting by R1 numbers\n",
    "dataR.sort_values(\"R1\", inplace = True)"
   ]
  },
  {
   "cell_type": "code",
   "execution_count": null,
   "id": "94e283b7",
   "metadata": {},
   "outputs": [],
   "source": [
    "# dropping ALL duplicate values\n",
    "df = dataR.drop_duplicates()"
   ]
  },
  {
   "cell_type": "code",
   "execution_count": null,
   "id": "ac6a0286",
   "metadata": {},
   "outputs": [],
   "source": [
    "df.shape"
   ]
  },
  {
   "cell_type": "code",
   "execution_count": null,
   "id": "97dc23e0",
   "metadata": {},
   "outputs": [],
   "source": [
    "df.head(56)"
   ]
  },
  {
   "cell_type": "code",
   "execution_count": null,
   "id": "16a62778",
   "metadata": {},
   "outputs": [],
   "source": [
    "df = df.sort_index(ascending=True)\n",
    "df.reset_index(inplace = True, drop=True)"
   ]
  },
  {
   "cell_type": "code",
   "execution_count": null,
   "id": "0423bc78",
   "metadata": {},
   "outputs": [],
   "source": [
    "df.head(56)"
   ]
  },
  {
   "cell_type": "code",
   "execution_count": null,
   "id": "6a827262",
   "metadata": {},
   "outputs": [],
   "source": [
    "# sorting by R1 numbers\n",
    "df.sort_values(\"Freq\", inplace = True)"
   ]
  },
  {
   "cell_type": "code",
   "execution_count": null,
   "id": "b7dc1875",
   "metadata": {},
   "outputs": [],
   "source": [
    "df.head(56)"
   ]
  },
  {
   "cell_type": "code",
   "execution_count": null,
   "id": "c02c337a",
   "metadata": {},
   "outputs": [],
   "source": [
    "df.describe()"
   ]
  },
  {
   "cell_type": "code",
   "execution_count": null,
   "id": "65806290",
   "metadata": {},
   "outputs": [],
   "source": [
    "#save as csv (Don't forget to add '.csv' at the end of the path)\n",
    "MelateStats = df.to_csv(r'/Users/Gullermo R/Claro drive/Datasets/Melate/MelateStats.csv', header=True) "
   ]
  },
  {
   "cell_type": "code",
   "execution_count": null,
   "id": "c4c525f0",
   "metadata": {},
   "outputs": [],
   "source": [
    "# Standard Library Imports for pandas_profiling \n",
    "from pathlib import Path\n",
    "\n",
    "# Installed packages\n",
    "#import pandas as pd\n",
    "from ipywidgets import widgets\n",
    "\n",
    "#print(pd.__version__)\n",
    "\n",
    "# Our package pandas_profiling\n",
    "from pandas_profiling import ProfileReport\n",
    "from pandas_profiling.utils.cache import cache_file"
   ]
  },
  {
   "cell_type": "code",
   "execution_count": null,
   "id": "7fc1f6af",
   "metadata": {},
   "outputs": [],
   "source": [
    "# Generate the Profiling Report\n",
    "profile = ProfileReport(\n",
    "    dataR, title=\"Melate\", html={\"style\": {\"full_width\": True}}, sort=None\n",
    ")"
   ]
  },
  {
   "cell_type": "code",
   "execution_count": null,
   "id": "e2576638",
   "metadata": {},
   "outputs": [],
   "source": [
    "profile"
   ]
  }
 ],
 "metadata": {
  "kernelspec": {
   "display_name": "Python 3 (ipykernel)",
   "language": "python",
   "name": "python3"
  },
  "language_info": {
   "codemirror_mode": {
    "name": "ipython",
    "version": 3
   },
   "file_extension": ".py",
   "mimetype": "text/x-python",
   "name": "python",
   "nbconvert_exporter": "python",
   "pygments_lexer": "ipython3",
   "version": "3.9.7"
  }
 },
 "nbformat": 4,
 "nbformat_minor": 5
}
